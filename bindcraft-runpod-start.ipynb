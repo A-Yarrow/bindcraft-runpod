{
 "cells": [
  {
   "cell_type": "code",
   "execution_count": null,
   "id": "9e1f39b0",
   "metadata": {},
   "outputs": [],
   "source": [
    "%%bash\n",
    "\n",
    "params_dir=\"/workspace/params\"\n",
    "\n",
    "# Exit early if weights are already present\n",
    "if [ -f \"${params_dir}/params_model_5_ptm.npz\" ]; then\n",
    "    echo \"AlphaFold2 weights already downloaded at ${params_dir}\"\n",
    "    exit 0\n",
    "fi\n",
    "\n",
    "mkdir -p \"${params_dir}\" \n",
    "cd \"${params_dir}\" \n",
    "\n",
    "echo \"Downloading AlphaFold2 weights...\"\n",
    "wget --progress=dot:giga https://storage.googleapis.com/alphafold/alphafold_params_2022-12-06.tar \n",
    "echo \"Extracting weights...\"\n",
    "tar -xf alphafold_params_2022-12-06.tar \n",
    "rm alphafold_params_2022-12-06.tar \n",
    "\n",
    "if [ -f \"${params_dir}/params_model_5_ptm.npz\" ]; then\n",
    "    echo \"AlphaFold2 weights successfully set up at ${params_dir}\"\n",
    "else\n",
    "    echo \"AlphaFold2 weights not found after extraction.\"\n",
    "    exit 1\n",
    "fi\n"
   ]
  },
  {
   "cell_type": "code",
   "execution_count": null,
   "id": "583f2f70",
   "metadata": {},
   "outputs": [],
   "source": [
    "%%bash\n",
    "version = $(docker --version 2> /dev/null)\n",
    "\n",
    "if [ -n \"$version\"]; then\n",
    "    echo \"Docker is installed: $version\"\n",
    "    docker pull yarrowdocker/bindcraft:latest\n",
    "else\n",
    "    echo \"Docker is not installed. Will install it now.\"\n",
    "    pip install docker\n",
    "fi"
   ]
  },
  {
   "cell_type": "code",
   "execution_count": null,
   "id": "2609d58d",
   "metadata": {},
   "outputs": [],
   "source": [
    "%%bash\n",
    "target=\"PDL1.json\"\n",
    "\n",
    "if [ ! -f \"workspace/settings_target/$target\" ]; then\n",
    "  echo \"Target file $target not found in settings_target directory.\"\n",
    "  exit 1\n",
    "fi\n",
    "\n",
    "nohup python /app/bindcraft/bindcraft.py \\\n",
    "  --settings /workspace/settings_target/$target \\\n",
    "  --filters /workspace/settings_filters/default_filters.json \\\n",
    "  --advanced /workspace/settings_advanced/default_4stage_multimer.json \\\n",
    "  > /workspace/outputs/bindcraft_log.txt 2>&1 &\n"
   ]
  }
 ],
 "metadata": {
  "language_info": {
   "name": "python"
  }
 },
 "nbformat": 4,
 "nbformat_minor": 5
}
