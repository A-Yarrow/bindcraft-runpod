{
 "cells": [
  {
   "cell_type": "code",
   "execution_count": null,
   "id": "905c1c7d",
   "metadata": {},
   "outputs": [],
   "source": [
    "%%bash\n",
    "\n",
    "# Test Run with 10 designs \n",
    "target=\"PDL1.json\"\n",
    "target_name=\"${target%.json}\"  # Strip the .json extension\n",
    "target_path=\"/workspace/settings_target/$target\"\n",
    "log_dir=\"/workspace/outputs/$target_name\"\n",
    "log_file=\"${log_dir}/${target_name}-bindcraft_log.txt\"\n",
    "\n",
    "# Ensure log directory exists\n",
    "mkdir -p \"$log_dir\"\n",
    "\n",
    "echo \"[INFO] Checking target settings file...\"\n",
    "if [ ! -f \"$target_path\" ]; then\n",
    "  echo \"[ERROR] Target file '$target' not found in /workspace/settings_target/\"\n",
    "  exit 1\n",
    "fi\n",
    "\n",
    "echo \"[INFO] Starting BindCraft with target '$target'\"\n",
    "echo \"[INFO] Logging output to $log_file\"\n",
    "\n",
    "python -u /app/bindcraft/bindcraft.py \\\n",
    "  --settings \"$target_path\" \\\n",
    "  --filters /workspace/settings_filters/default_filters.json \\\n",
    "  --advanced /workspace/settings_advanced/default_4stage_multimer.json \\\n",
    "  2>&1 | tee \"$log_file\"\n",
    "\n",
    "echo \"[INFO] BindCraft is now running in the background (PID=$!)\""
   ]
  },
  {
   "cell_type": "code",
   "execution_count": 1,
   "id": "16f39ba9",
   "metadata": {},
   "outputs": [
    {
     "name": "stdout",
     "output_type": "stream",
     "text": [
      "Using function path: /home/yarrow/projects/bindcraft-runpod/functions/\n"
     ]
    },
    {
     "data": {
      "application/vnd.jupyter.widget-view+json": {
       "model_id": "dfd375385f624039a9afe1be61a7fd85",
       "version_major": 2,
       "version_minor": 0
      },
      "text/plain": [
       "HTML(value='<div style=\\'padding: 8px; background-color: #eef; font-size: 16px; border: 1px solid #ccd; border…"
      ]
     },
     "metadata": {},
     "output_type": "display_data"
    },
    {
     "data": {
      "application/vnd.jupyter.widget-view+json": {
       "model_id": "86590d6cfbfb4802ad623303b4796509",
       "version_major": 2,
       "version_minor": 0
      },
      "text/plain": [
       "HTML(value=\"<div style='padding: 8px; background-color: #eef; font-size: 16px; border: 1px solid #ccd; border-…"
      ]
     },
     "metadata": {},
     "output_type": "display_data"
    },
    {
     "data": {
      "application/vnd.jupyter.widget-view+json": {
       "model_id": "52736e438f074a058ba0fbc29212590c",
       "version_major": 2,
       "version_minor": 0
      },
      "text/plain": [
       "FileUpload(value=(), accept='.pdb', description='Upload PDB')"
      ]
     },
     "metadata": {},
     "output_type": "display_data"
    },
    {
     "data": {
      "application/vnd.jupyter.widget-view+json": {
       "model_id": "d162522193d84c2d98e36fa57bffeccd",
       "version_major": 2,
       "version_minor": 0
      },
      "text/plain": [
       "Output()"
      ]
     },
     "metadata": {},
     "output_type": "display_data"
    },
    {
     "data": {
      "application/vnd.jupyter.widget-view+json": {
       "model_id": "2d2e0c6f129347e28e05b75a8f8d127a",
       "version_major": 2,
       "version_minor": 0
      },
      "text/plain": [
       "HTML(value=\"<div style='padding: 8px; background-color: #eef; font-size: 16px; border: 1px solid #ccd; border-…"
      ]
     },
     "metadata": {},
     "output_type": "display_data"
    },
    {
     "data": {
      "application/vnd.jupyter.widget-view+json": {
       "model_id": "9ebd6c0951de4e37a09c7a48f53449db",
       "version_major": 2,
       "version_minor": 0
      },
      "text/plain": [
       "FileUpload(value=(), accept='.json', description='Upload JSON')"
      ]
     },
     "metadata": {},
     "output_type": "display_data"
    },
    {
     "data": {
      "application/vnd.jupyter.widget-view+json": {
       "model_id": "c70aaea224ff4b1085e591695fbe07bc",
       "version_major": 2,
       "version_minor": 0
      },
      "text/plain": [
       "Output()"
      ]
     },
     "metadata": {},
     "output_type": "display_data"
    },
    {
     "data": {
      "application/vnd.jupyter.widget-view+json": {
       "model_id": "d230f2df201e4a108b83926815d3d89a",
       "version_major": 2,
       "version_minor": 0
      },
      "text/plain": [
       "HTML(value=\"<div style='padding: 8px; background-color: #eef; font-size: 16px; border: 1px solid #ccd; border-…"
      ]
     },
     "metadata": {},
     "output_type": "display_data"
    },
    {
     "data": {
      "application/vnd.jupyter.widget-view+json": {
       "model_id": "aa32bf9f27fb4521b69b7539d42dc556",
       "version_major": 2,
       "version_minor": 0
      },
      "text/plain": [
       "VBox(children=(VBox(children=(Text(value='PDL1.json', description='File Name:', layout=Layout(width='50%'), st…"
      ]
     },
     "metadata": {},
     "output_type": "display_data"
    },
    {
     "data": {
      "application/vnd.jupyter.widget-view+json": {
       "model_id": "8e478b95b9794fc7ac5136191d83f9f3",
       "version_major": 2,
       "version_minor": 0
      },
      "text/plain": [
       "HTML(value=\"<div style='padding: 8px; background-color: #eef; font-size: 16px; border: 1px solid #ccd; border-…"
      ]
     },
     "metadata": {},
     "output_type": "display_data"
    },
    {
     "data": {
      "application/vnd.jupyter.widget-view+json": {
       "model_id": "5d2b82603b5f4a1b8ce40e8ce8544fff",
       "version_major": 2,
       "version_minor": 0
      },
      "text/plain": [
       "Text(value='', description='Enter a job name for the Bindcraft Run (Required)', layout=Layout(width='50%'), st…"
      ]
     },
     "metadata": {},
     "output_type": "display_data"
    },
    {
     "data": {
      "application/vnd.jupyter.widget-view+json": {
       "model_id": "c99a38b4379546c9a3c5365fdd9d7c98",
       "version_major": 2,
       "version_minor": 0
      },
      "text/plain": [
       "Button(button_style='primary', description='Submit Job Name', style=ButtonStyle())"
      ]
     },
     "metadata": {},
     "output_type": "display_data"
    },
    {
     "data": {
      "application/vnd.jupyter.widget-view+json": {
       "model_id": "e6785fd4c0a4483294be96e0da6c940f",
       "version_major": 2,
       "version_minor": 0
      },
      "text/plain": [
       "Output()"
      ]
     },
     "metadata": {},
     "output_type": "display_data"
    },
    {
     "data": {
      "application/vnd.jupyter.widget-view+json": {
       "model_id": "3847d195ee6c46a3acb5a13daca3790b",
       "version_major": 2,
       "version_minor": 0
      },
      "text/plain": [
       "Dropdown(description='Select Target JSON:', layout=Layout(width='70%'), options=('/home/yarrow/projects/bindcr…"
      ]
     },
     "metadata": {},
     "output_type": "display_data"
    },
    {
     "data": {
      "application/vnd.jupyter.widget-view+json": {
       "model_id": "9505188501a54a8496122d8601b2755e",
       "version_major": 2,
       "version_minor": 0
      },
      "text/plain": [
       "HTML(value='<b>Selected Target JSON: </b>None')"
      ]
     },
     "metadata": {},
     "output_type": "display_data"
    },
    {
     "data": {
      "application/vnd.jupyter.widget-view+json": {
       "model_id": "24a7e1a7f5b5450aa15e8ad1b55d76f6",
       "version_major": 2,
       "version_minor": 0
      },
      "text/plain": [
       "Button(button_style='warning', description='🔄 Refresh Json Dropdown Menu', layout=Layout(width='30%'), style=B…"
      ]
     },
     "metadata": {},
     "output_type": "display_data"
    },
    {
     "data": {
      "application/vnd.jupyter.widget-view+json": {
       "model_id": "ee895771b2ca47fc9cabb6040ca290bd",
       "version_major": 2,
       "version_minor": 0
      },
      "text/plain": [
       "Output()"
      ]
     },
     "metadata": {},
     "output_type": "display_data"
    },
    {
     "data": {
      "application/vnd.jupyter.widget-view+json": {
       "model_id": "874027116d4b46cc9f399d0c29326303",
       "version_major": 2,
       "version_minor": 0
      },
      "text/plain": [
       "Label(value=\"Remember to click 'Refresh Json Dropdown' after uploading, editing or saving a new Target Json fi…"
      ]
     },
     "metadata": {},
     "output_type": "display_data"
    },
    {
     "data": {
      "application/vnd.jupyter.widget-view+json": {
       "model_id": "79ddf48cdc764eed9b573f01c14e864a",
       "version_major": 2,
       "version_minor": 0
      },
      "text/plain": [
       "Dropdown(description='settings_filters files:', layout=Layout(width='50%'), options=('default_filters.json', '…"
      ]
     },
     "metadata": {},
     "output_type": "display_data"
    },
    {
     "data": {
      "application/vnd.jupyter.widget-view+json": {
       "model_id": "f968b7d2bb6b47fcb3949398e81324cc",
       "version_major": 2,
       "version_minor": 0
      },
      "text/plain": [
       "Dropdown(description='settings_advanced files:', index=8, layout=Layout(width='50%'), options=('betasheet_4sta…"
      ]
     },
     "metadata": {},
     "output_type": "display_data"
    },
    {
     "data": {
      "application/vnd.jupyter.widget-view+json": {
       "model_id": "ee3a29ad103f4762943c6537336d5cef",
       "version_major": 2,
       "version_minor": 0
      },
      "text/plain": [
       "Button(button_style='success', description='Generate BindCraft Run Script with Settings', layout=Layout(width=…"
      ]
     },
     "metadata": {},
     "output_type": "display_data"
    },
    {
     "data": {
      "application/vnd.jupyter.widget-view+json": {
       "model_id": "11d1ae810c734b99bbad86ebcaf4a5a4",
       "version_major": 2,
       "version_minor": 0
      },
      "text/plain": [
       "Output()"
      ]
     },
     "metadata": {},
     "output_type": "display_data"
    },
    {
     "data": {
      "application/vnd.jupyter.widget-view+json": {
       "model_id": "c0b0a18a992046f182e89d0b1c43256f",
       "version_major": 2,
       "version_minor": 0
      },
      "text/plain": [
       "Button(button_style='primary', description='Run BindCraft', layout=Layout(width='30%'), style=ButtonStyle())"
      ]
     },
     "metadata": {},
     "output_type": "display_data"
    },
    {
     "data": {
      "application/vnd.jupyter.widget-view+json": {
       "model_id": "3ace6ff03365415583352a4f429f8c3d",
       "version_major": 2,
       "version_minor": 0
      },
      "text/plain": [
       "Output()"
      ]
     },
     "metadata": {},
     "output_type": "display_data"
    },
    {
     "data": {
      "application/vnd.jupyter.widget-view+json": {
       "model_id": "2b5922aceff040c28903eb3023d3a6f4",
       "version_major": 2,
       "version_minor": 0
      },
      "text/plain": [
       "Dropdown(description='Select a job to abort', disabled=True, options=(), style=DescriptionStyle(description_wi…"
      ]
     },
     "metadata": {},
     "output_type": "display_data"
    },
    {
     "data": {
      "application/vnd.jupyter.widget-view+json": {
       "model_id": "6f4ee72f763a42e5a735d5ac507a17e0",
       "version_major": 2,
       "version_minor": 0
      },
      "text/plain": [
       "Button(button_style='warning', description='Abort a running job', style=ButtonStyle())"
      ]
     },
     "metadata": {},
     "output_type": "display_data"
    },
    {
     "data": {
      "application/vnd.jupyter.widget-view+json": {
       "model_id": "65bcab545ea84d94aecdcbc8648cedb4",
       "version_major": 2,
       "version_minor": 0
      },
      "text/plain": [
       "Button(button_style='warning', description='🔄 Refresh Jobs Dropdown Menu', style=ButtonStyle())"
      ]
     },
     "metadata": {},
     "output_type": "display_data"
    },
    {
     "data": {
      "application/vnd.jupyter.widget-view+json": {
       "model_id": "f587ef01f53d4eed9e1d4591fcb4fdbc",
       "version_major": 2,
       "version_minor": 0
      },
      "text/plain": [
       "Output()"
      ]
     },
     "metadata": {},
     "output_type": "display_data"
    },
    {
     "data": {
      "application/vnd.jupyter.widget-view+json": {
       "model_id": "f47f241650cf4eb4a3dbc36229cd3095",
       "version_major": 2,
       "version_minor": 0
      },
      "text/plain": [
       "Textarea(value='', description='Log:', disabled=True, layout=Layout(height='300px', width='100%'), placeholder…"
      ]
     },
     "metadata": {},
     "output_type": "display_data"
    },
    {
     "name": "stdout",
     "output_type": "stream",
     "text": [
      "Removed stale PID file: /home/yarrow/projects/bindcraft-runpod/tmp/pids/test-bindcraft_pid.txt\n"
     ]
    },
    {
     "name": "stderr",
     "output_type": "stream",
     "text": [
      "2025-09-03 08:40:54,874 - INFO - Job 'test' has been terminated and dropdown refreshed.\n"
     ]
    }
   ],
   "source": [
    "import sys\n",
    "import os\n",
    "DEV_DIR = '/home/yarrow/projects/bindcraft-runpod/functions/'\n",
    "PROD_DIR = '/app/bindcraft/functions'\n",
    "\n",
    "path_used = DEV_DIR if os.path.exists(DEV_DIR) else PROD_DIR\n",
    "print(f\"Using function path: {path_used}\")\n",
    "sys.path.append(path_used)\n",
    "\n",
    "from main_UI import launch_all_ui\n",
    "\n",
    "launch_all_ui()"
   ]
  },
  {
   "cell_type": "code",
   "execution_count": null,
   "id": "a9acdfe5",
   "metadata": {},
   "outputs": [],
   "source": []
  }
 ],
 "metadata": {
  "kernelspec": {
   "display_name": "BindCraft",
   "language": "python",
   "name": "python3"
  },
  "language_info": {
   "codemirror_mode": {
    "name": "ipython",
    "version": 3
   },
   "file_extension": ".py",
   "mimetype": "text/x-python",
   "name": "python",
   "nbconvert_exporter": "python",
   "pygments_lexer": "ipython3",
   "version": "3.10.18"
  }
 },
 "nbformat": 4,
 "nbformat_minor": 5
}
