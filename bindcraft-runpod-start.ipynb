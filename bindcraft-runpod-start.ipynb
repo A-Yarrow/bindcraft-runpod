{
 "cells": [
  {
   "cell_type": "code",
   "execution_count": null,
   "id": "905c1c7d",
   "metadata": {},
   "outputs": [],
   "source": [
    "%%bash\n",
    "\n",
    "# Test Run with 10 designs \n",
    "target=\"PDL1.json\"\n",
    "target_name=\"${target%.json}\"  # Strip the .json extension\n",
    "target_path=\"/workspace/settings_target/$target\"\n",
    "log_dir=\"/workspace/outputs/$target_name\"\n",
    "log_file=\"$log_dir/${target_name}-bindcraft_log.txt\"\n",
    "\n",
    "# Ensure log directory exists\n",
    "mkdir -p \"$log_dir\"\n",
    "\n",
    "echo \"[INFO] Checking target settings file...\"\n",
    "if [ ! -f \"$target_path\" ]; then\n",
    "  echo \"[ERROR] Target file '$target' not found in /workspace/settings_target/\"\n",
    "  exit 1\n",
    "fi\n",
    "\n",
    "echo \"[INFO] Starting BindCraft with target '$target'\"\n",
    "echo \"[INFO] Logging output to $log_file\"\n",
    "\n",
    "nohup python /app/bindcraft/bindcraft.py \\\n",
    "  --settings \"$target_path\" \\\n",
    "  --filters /workspace/settings_filters/default_filters.json \\\n",
    "  --advanced /workspace/settings_advanced/default_4stage_multimer.json \\\n",
    "  > \"$log_file\" 2>&1 &\n",
    "\n",
    "echo \"[INFO] BindCraft is now running in the background (PID=$!)\""
   ]
  },
  {
   "cell_type": "code",
   "execution_count": null,
   "id": "d748bc19",
   "metadata": {},
   "outputs": [],
   "source": [
    "!tail -n 50 -f /workspace/outputs/${log_file}"
   ]
  },
  {
   "cell_type": "code",
   "execution_count": 1,
   "id": "fc78833a",
   "metadata": {},
   "outputs": [
    {
     "data": {
      "application/vnd.jupyter.widget-view+json": {
       "model_id": "adae83145a61493597e19644ffc91e02",
       "version_major": 2,
       "version_minor": 0
      },
      "text/plain": [
       "FileUpload(value=(), accept='.json', description='Upload')"
      ]
     },
     "metadata": {},
     "output_type": "display_data"
    }
   ],
   "source": [
    "import ipywidgets as widgets\n",
    "from IPython.display import display\n",
    "uploader = widgets.FileUpload(accept='.json', multiple=False)\n",
    "display(uploader)"
   ]
  },
  {
   "cell_type": "code",
   "execution_count": 1,
   "id": "ba40fe23",
   "metadata": {},
   "outputs": [
    {
     "name": "stdout",
     "output_type": "stream",
     "text": [
      "Step 1: Edit your target JSON file.\n"
     ]
    },
    {
     "data": {
      "application/vnd.jupyter.widget-view+json": {
       "model_id": "dcd53d6d8ab44c56bde93eba06ba9b5b",
       "version_major": 2,
       "version_minor": 0
      },
      "text/plain": [
       "Text(value='PDL1.json', description='File Name:', layout=Layout(width='50%'))"
      ]
     },
     "metadata": {},
     "output_type": "display_data"
    },
    {
     "data": {
      "application/vnd.jupyter.widget-view+json": {
       "model_id": "d5c128f621e84a8ebcf54689e1f4c085",
       "version_major": 2,
       "version_minor": 0
      },
      "text/plain": [
       "Text(value='PDL1', description='Subfolder to save json file to (optional):', style=TextStyle(description_width…"
      ]
     },
     "metadata": {},
     "output_type": "display_data"
    },
    {
     "data": {
      "application/vnd.jupyter.widget-view+json": {
       "model_id": "29db97ac11574475ab53ee916ba727f8",
       "version_major": 2,
       "version_minor": 0
      },
      "text/plain": [
       "Text(value='/workspace/outputs/PDL1', description='design_path:', style=TextStyle(description_width='initial')…"
      ]
     },
     "metadata": {},
     "output_type": "display_data"
    },
    {
     "data": {
      "application/vnd.jupyter.widget-view+json": {
       "model_id": "982abf8d6a824a2f8f30a0b5abe6c47f",
       "version_major": 2,
       "version_minor": 0
      },
      "text/plain": [
       "Text(value='PDL1-Binder', description='binder_name:', style=TextStyle(description_width='initial'))"
      ]
     },
     "metadata": {},
     "output_type": "display_data"
    },
    {
     "data": {
      "application/vnd.jupyter.widget-view+json": {
       "model_id": "81a4b41e94c54b0684c507c8a820866d",
       "version_major": 2,
       "version_minor": 0
      },
      "text/plain": [
       "Text(value='/workspace/inputs/PDL1.pdb', description='starting_pdb:', style=TextStyle(description_width='initi…"
      ]
     },
     "metadata": {},
     "output_type": "display_data"
    },
    {
     "data": {
      "application/vnd.jupyter.widget-view+json": {
       "model_id": "69ee60fda32840b8b8d8ae4a65a9abcf",
       "version_major": 2,
       "version_minor": 0
      },
      "text/plain": [
       "Text(value='A', description='chains:', style=TextStyle(description_width='initial'))"
      ]
     },
     "metadata": {},
     "output_type": "display_data"
    },
    {
     "data": {
      "application/vnd.jupyter.widget-view+json": {
       "model_id": "3b942791860248298a2e781e4b88184f",
       "version_major": 2,
       "version_minor": 0
      },
      "text/plain": [
       "Text(value='56', description='target_hotspot_residues:', style=TextStyle(description_width='initial'))"
      ]
     },
     "metadata": {},
     "output_type": "display_data"
    },
    {
     "data": {
      "application/vnd.jupyter.widget-view+json": {
       "model_id": "f768af63be2148acabc4f5c91f82b9bb",
       "version_major": 2,
       "version_minor": 0
      },
      "text/plain": [
       "Text(value='[65, 150]', description='lengths:', style=TextStyle(description_width='initial'))"
      ]
     },
     "metadata": {},
     "output_type": "display_data"
    },
    {
     "data": {
      "application/vnd.jupyter.widget-view+json": {
       "model_id": "06d246a277904a618af209f50cecbed3",
       "version_major": 2,
       "version_minor": 0
      },
      "text/plain": [
       "IntText(value=10, description='number_of_final_designs:', style=DescriptionStyle(description_width='initial'))"
      ]
     },
     "metadata": {},
     "output_type": "display_data"
    },
    {
     "data": {
      "application/vnd.jupyter.widget-view+json": {
       "model_id": "48027846e2004193a98e39e7ed227cc1",
       "version_major": 2,
       "version_minor": 0
      },
      "text/plain": [
       "Button(button_style='success', description='Save Changes', style=ButtonStyle())"
      ]
     },
     "metadata": {},
     "output_type": "display_data"
    },
    {
     "data": {
      "application/vnd.jupyter.widget-view+json": {
       "model_id": "e0cd2b3dd5944cdea155fc2c2585c119",
       "version_major": 2,
       "version_minor": 0
      },
      "text/plain": [
       "Output()"
      ]
     },
     "metadata": {},
     "output_type": "display_data"
    },
    {
     "name": "stdout",
     "output_type": "stream",
     "text": [
      "\n",
      "Step 2: Select settings and run BindCraft.\n",
      "Select your settings files:\n"
     ]
    },
    {
     "data": {
      "application/vnd.jupyter.widget-view+json": {
       "model_id": "fa5350d525944bbba359f998e278839e",
       "version_major": 2,
       "version_minor": 0
      },
      "text/plain": [
       "Dropdown(description='settings_filters files:', layout=Layout(width='50%'), options=('default_filters.json', '…"
      ]
     },
     "metadata": {},
     "output_type": "display_data"
    },
    {
     "data": {
      "application/vnd.jupyter.widget-view+json": {
       "model_id": "4a773f84243d44dc9dae8fdd02f52920",
       "version_major": 2,
       "version_minor": 0
      },
      "text/plain": [
       "Dropdown(description='settings_advanced files:', layout=Layout(width='50%'), options=('betasheet_4stage_multim…"
      ]
     },
     "metadata": {},
     "output_type": "display_data"
    },
    {
     "data": {
      "application/vnd.jupyter.widget-view+json": {
       "model_id": "179215feef35498484dc1b0c5516320e",
       "version_major": 2,
       "version_minor": 0
      },
      "text/plain": [
       "Button(button_style='success', description='Generate BindCraft Run Script with Settings', layout=Layout(width=…"
      ]
     },
     "metadata": {},
     "output_type": "display_data"
    },
    {
     "data": {
      "application/vnd.jupyter.widget-view+json": {
       "model_id": "507257d54e3e4c6d9ce1d159a9ef9075",
       "version_major": 2,
       "version_minor": 0
      },
      "text/plain": [
       "Button(button_style='primary', description='Run BindCraft', layout=Layout(width='30%'), style=ButtonStyle())"
      ]
     },
     "metadata": {},
     "output_type": "display_data"
    },
    {
     "data": {
      "application/vnd.jupyter.widget-view+json": {
       "model_id": "7ed3b5020bb04233be12af7794113b13",
       "version_major": 2,
       "version_minor": 0
      },
      "text/plain": [
       "Output()"
      ]
     },
     "metadata": {},
     "output_type": "display_data"
    }
   ],
   "source": [
    "import sys\n",
    "import os\n",
    "DEV_DIR = '/home/yarrow/projects/bindcraft-runpod/functions/'\n",
    "PROD_DIR = '/app/bindcraft/functions'\n",
    "sys.path.append(DEV_DIR if os.path.exists(DEV_DIR) else PROD_DIR)\n",
    "\n",
    "from main_UI import launch_all_ui\n",
    "\n",
    "launch_all_ui()\n"
   ]
  }
 ],
 "metadata": {
  "kernelspec": {
   "display_name": "Python (BindCraft)",
   "language": "python",
   "name": "bindcraft"
  },
  "language_info": {
   "codemirror_mode": {
    "name": "ipython",
    "version": 3
   },
   "file_extension": ".py",
   "mimetype": "text/x-python",
   "name": "python",
   "nbconvert_exporter": "python",
   "pygments_lexer": "ipython3",
   "version": "3.10.18"
  }
 },
 "nbformat": 4,
 "nbformat_minor": 5
}
