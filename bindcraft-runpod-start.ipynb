{
 "cells": [
  {
   "cell_type": "code",
   "execution_count": null,
   "id": "905c1c7d",
   "metadata": {},
   "outputs": [],
   "source": [
    "%%bash\n",
    "\n",
    "# Test Run with 10 designs \n",
    "target=\"PDL1.json\"\n",
    "target_name=\"${target%.json}\"  # Strip the .json extension\n",
    "target_path=\"/workspace/settings_target/$target\"\n",
    "log_dir=\"/workspace/outputs/$target_name\"\n",
    "log_file=\"$log_dir/${target_name}-bindcraft_log.txt\"\n",
    "\n",
    "# Ensure log directory exists\n",
    "mkdir -p \"$log_dir\"\n",
    "\n",
    "echo \"[INFO] Checking target settings file...\"\n",
    "if [ ! -f \"$target_path\" ]; then\n",
    "  echo \"[ERROR] Target file '$target' not found in /workspace/settings_target/\"\n",
    "  exit 1\n",
    "fi\n",
    "\n",
    "echo \"[INFO] Starting BindCraft with target '$target'\"\n",
    "echo \"[INFO] Logging output to $log_file\"\n",
    "\n",
    "nohup python /app/bindcraft/bindcraft.py \\\n",
    "  --settings \"$target_path\" \\\n",
    "  --filters /workspace/settings_filters/default_filters.json \\\n",
    "  --advanced /workspace/settings_advanced/default_4stage_multimer.json \\\n",
    "  > \"$log_file\" 2>&1 &\n",
    "\n",
    "echo \"[INFO] BindCraft is now running in the background (PID=$!)\""
   ]
  },
  {
   "cell_type": "code",
   "execution_count": null,
   "id": "d748bc19",
   "metadata": {},
   "outputs": [],
   "source": [
    "!tail -n 50 -f /workspace/outputs/${log_file}"
   ]
  },
  {
   "cell_type": "code",
   "execution_count": 1,
   "id": "fc78833a",
   "metadata": {},
   "outputs": [
    {
     "data": {
      "application/vnd.jupyter.widget-view+json": {
       "model_id": "adae83145a61493597e19644ffc91e02",
       "version_major": 2,
       "version_minor": 0
      },
      "text/plain": [
       "FileUpload(value=(), accept='.json', description='Upload')"
      ]
     },
     "metadata": {},
     "output_type": "display_data"
    }
   ],
   "source": [
    "import ipywidgets as widgets\n",
    "from IPython.display import display\n",
    "uploader = widgets.FileUpload(accept='.json', multiple=False)\n",
    "display(uploader)"
   ]
  },
  {
   "cell_type": "code",
   "execution_count": 25,
   "id": "d5308933",
   "metadata": {},
   "outputs": [
    {
     "data": {
      "application/vnd.jupyter.widget-view+json": {
       "model_id": "812455a848af4ed0a640f9775a7d63af",
       "version_major": 2,
       "version_minor": 0
      },
      "text/plain": [
       "Text(value='PDL1.json', description='File Name:', layout=Layout(width='50%'))"
      ]
     },
     "metadata": {},
     "output_type": "display_data"
    },
    {
     "data": {
      "application/vnd.jupyter.widget-view+json": {
       "model_id": "67b2cc98822d41ae87e7d02e1d7906cc",
       "version_major": 2,
       "version_minor": 0
      },
      "text/plain": [
       "Text(value='/workspace/outputs/PDL1', description='design_path:', style=TextStyle(description_width='initial')…"
      ]
     },
     "metadata": {},
     "output_type": "display_data"
    },
    {
     "data": {
      "application/vnd.jupyter.widget-view+json": {
       "model_id": "50d7000ea8ce4aaa81156934faf0c254",
       "version_major": 2,
       "version_minor": 0
      },
      "text/plain": [
       "Text(value='PDL1-Binder', description='binder_name:', style=TextStyle(description_width='initial'))"
      ]
     },
     "metadata": {},
     "output_type": "display_data"
    },
    {
     "data": {
      "application/vnd.jupyter.widget-view+json": {
       "model_id": "d21dba0fb1f141529d335c48c263404e",
       "version_major": 2,
       "version_minor": 0
      },
      "text/plain": [
       "Text(value='/workspace/inputs/PDL1.pdb', description='starting_pdb:', style=TextStyle(description_width='initi…"
      ]
     },
     "metadata": {},
     "output_type": "display_data"
    },
    {
     "data": {
      "application/vnd.jupyter.widget-view+json": {
       "model_id": "f4fe4393884149dea04371e95d87e133",
       "version_major": 2,
       "version_minor": 0
      },
      "text/plain": [
       "Text(value='A', description='chains:', style=TextStyle(description_width='initial'))"
      ]
     },
     "metadata": {},
     "output_type": "display_data"
    },
    {
     "data": {
      "application/vnd.jupyter.widget-view+json": {
       "model_id": "c033fc2fe8574a8689874aa1428c0225",
       "version_major": 2,
       "version_minor": 0
      },
      "text/plain": [
       "Text(value='56', description='target_hotspot_residues:', style=TextStyle(description_width='initial'))"
      ]
     },
     "metadata": {},
     "output_type": "display_data"
    },
    {
     "data": {
      "application/vnd.jupyter.widget-view+json": {
       "model_id": "7fcc5d6a5b824fcbbf3ab1be1f75436e",
       "version_major": 2,
       "version_minor": 0
      },
      "text/plain": [
       "Text(value='[65, 150]', description='lengths:', style=TextStyle(description_width='initial'))"
      ]
     },
     "metadata": {},
     "output_type": "display_data"
    },
    {
     "data": {
      "application/vnd.jupyter.widget-view+json": {
       "model_id": "dbd3fb2d8eb64b369214a1754f7a937f",
       "version_major": 2,
       "version_minor": 0
      },
      "text/plain": [
       "IntText(value=10, description='number_of_final_designs:', style=DescriptionStyle(description_width='initial'))"
      ]
     },
     "metadata": {},
     "output_type": "display_data"
    },
    {
     "data": {
      "application/vnd.jupyter.widget-view+json": {
       "model_id": "d663a75bbe9643a7ae31b1198cdd39e2",
       "version_major": 2,
       "version_minor": 0
      },
      "text/plain": [
       "Button(description='Save Changes', style=ButtonStyle())"
      ]
     },
     "metadata": {},
     "output_type": "display_data"
    }
   ],
   "source": [
    "import json\n",
    "import os\n",
    "from functools import partial\n",
    "\n",
    "def parse_target_json(filepath):\n",
    "    with open(filepath, 'r') as f:\n",
    "        data = json.load(f)\n",
    "    return data\n",
    "\n",
    "def save_target_json(target_folder, filename, json_path, data):\n",
    "    target_filepath = os.path.join(os.path.dirname(os.path.dirname(json_path)), target_folder)\n",
    "    os.makedirs(target_filepath, exist_ok=True)\n",
    "    target_filepath = os.path.join(target_filepath, filename)\n",
    "    \n",
    "    with open(f'{target_filepath}', 'w') as f:\n",
    "        json.dump(data, f, indent=4)\n",
    "    print(f\"Data saved to {target_filepath}\")\n",
    "\n",
    "\n",
    "def target_editor_widget(data):\n",
    "    widget_dict = {}\n",
    "    for k, v in data.items():\n",
    "         \n",
    "        if isinstance(v, list):\n",
    "            widget_dict[k] = widgets.Text(value=str(v), description=f'{k}:',\n",
    "                                          style={'description_width': 'initial'})\n",
    "        elif isinstance(v, int):\n",
    "            widget_dict[k] = widgets.IntText(value=v, description=f'{k}:',\n",
    "                                             style={'description_width': 'initial'})\n",
    "\n",
    "        else:\n",
    "            widget_dict[k] = widgets.Text(value=v, description=f'{k}:',\n",
    "                                          style={'description_width': 'initial'})\n",
    "        \n",
    "    return widget_dict\n",
    "\n",
    "def update_data(data, widget_dict):\n",
    "    updated_data = {}\n",
    "    for key, widget in widget_dict.items():\n",
    "        w = widget.value\n",
    "        #Convert back to a list if the original data was a list\n",
    "        if isinstance(data[key], list):\n",
    "            try:\n",
    "                w = json.loads(w)\n",
    "            except json.JSONDecodeError:\n",
    "                print(f\"Error decoding JSON for key '{key}'. Keeping original value.\")\n",
    "                w = data[key]\n",
    "        updated_data[key] = w\n",
    "    return updated_data     \n",
    "\n",
    "def on_save_clicked(button, data, widget_dict, target_folder, filename, json_path):\n",
    "    updated_data = update_data(data, widget_dict)\n",
    "    save_target_json(target_folder, filename, json_path, updated_data)\n",
    "    \n",
    "# Display the widgets and save button\n",
    "json_path = '/home/yarrow/projects/bindcraft-runpod/workspace/settings_target/PDL1.json'\n",
    "target_folder = 'test'\n",
    "filename_widget = widgets.Text(value=os.path.basename(json_path),\n",
    "                               description='File Name:',\n",
    "                               layout=widgets.Layout(width='50%')\n",
    "                               )\n",
    "\n",
    "data = parse_target_json(json_path)\n",
    "widget_dict = target_editor_widget(data)\n",
    "save_button = widgets.Button(description=\"Save Changes\", save_button_style='success')\n",
    "save_button.on_click(partial(on_save_clicked,\n",
    "                             data=data,\n",
    "                             widget_dict=widget_dict,\n",
    "                             target_folder=target_folder,\n",
    "                             filename=filename_widget.value,\n",
    "                             json_path=json_path))\n",
    "\n",
    "\n",
    "\n",
    "display(filename_widget)\n",
    "for widget in widget_dict.values():\n",
    "    display(widget)\n",
    "\n",
    "display(save_button)\n",
    "widget_dict = {}"
   ]
  },
  {
   "cell_type": "code",
   "execution_count": null,
   "id": "e8e03a7a",
   "metadata": {},
   "outputs": [],
   "source": [
    "import json\n",
    "import os\n",
    "from pathlib import Path\n",
    "from functools import partial\n",
    "import ipywidgets as widgets\n",
    "from IPython.display import display\n",
    "\n",
    "def parse_target_json(filepath):\n",
    "    with open(filepath, 'r') as f:\n",
    "        data = json.load(f)\n",
    "    return data\n",
    "\n",
    "def save_target_json(target_folder, filename, json_target_path, data):\n",
    "    base_dir = os.path.dirname(os.path.dirname(json_target_path))\n",
    "    target_filepath = os.path.join(base_dir, target_folder)\n",
    "    os.makedirs(target_filepath, exist_ok=True)\n",
    "    \n",
    "    full_path = os.path.join(target_filepath, filename)\n",
    "    print(f\"[DEBUG] Writing file to: {full_path}\")\n",
    "\n",
    "    with open(full_path, 'w') as f:\n",
    "        json.dump(data, f, indent=4)\n",
    "    print(f'Data saved to {full_path}')\n",
    "\n",
    "def update_data(data, widget_dict):\n",
    "    updated_data = {}\n",
    "    for key, widget in widget_dict.items():\n",
    "        w = widget.value\n",
    "        #Convert back to a list if the original data was a list\n",
    "        if isinstance(data[key], list):\n",
    "            try:\n",
    "                w = json.loads(w)\n",
    "            except json.JSONDecodeError:\n",
    "                print(f\"Error decoding JSON for key '{key}'. Keeping original value.\")\n",
    "                w = data[key]\n",
    "        updated_data[key] = w\n",
    "    return updated_data     \n",
    "\n",
    "def on_save_clicked(button, data, widget_dict, target_folder_widget, filename_widget, json_target_path):\n",
    "    print(\"[DEBUG] Save button clicked\")\n",
    "    target_folder = target_folder_widget.value.strip()\n",
    "    filename = filename_widget.value.strip()\n",
    "    #if not target_folder or not filename:\n",
    "    #    print (f'Please enter target folder and filename')\n",
    "    #    return\n",
    "\n",
    "    updated_data = update_data(data, widget_dict)\n",
    "    save_target_json(target_folder, filename, json_target_path, updated_data)\n",
    "    print(f'Saved parameters to {filename} in folder {target_folder}')\n",
    "\n",
    "\n",
    "#UI Builder\n",
    "\n",
    "def target_editor_widget(data):\n",
    "    widget_dict = {}\n",
    "    for k, v in data.items():\n",
    "         \n",
    "        if isinstance(v, list):\n",
    "            widget_dict[k] = widgets.Text(value=str(v), description=f'{k}:',\n",
    "                                          style={'description_width': 'initial'})\n",
    "    \n",
    "        elif isinstance(v, int):\n",
    "            widget_dict[k] = widgets.IntText(value=v, description=f'{k}:',\n",
    "                                             style={'description_width': 'initial'})\n",
    "\n",
    "        else:\n",
    "            widget_dict[k] = widgets.Text(value=v, description=f'{k}:',\n",
    "                                          style={'description_width': 'initial'})\n",
    "        \n",
    "    return widget_dict\n",
    "\n",
    "def main_launch_editor(json_target_path='/workspace/settings_target/PDL1.json'):\n",
    "    data = parse_target_json(json_target_path)\n",
    "\n",
    "    target_folder_widget = widgets.Text(value=Path(json_target_path).stem,\n",
    "                                    description='Folder Name to save file to',\n",
    "                                    style={'description_width': 'initial'}\n",
    "                                   )\n",
    "    filename_widget = widgets.Text(value=os.path.basename(json_target_path),\n",
    "                               description='File Name:',\n",
    "                               layout=widgets.Layout(width='50%')\n",
    "                               )\n",
    "    #Editable Field widgets\n",
    "    widget_dict = target_editor_widget(data)\n",
    "\n",
    "    save_button = widgets.Button(description=\"Save Changes\", button_style='success')\n",
    "    save_button.on_click(partial(on_save_clicked,\n",
    "                             data=data,\n",
    "                             widget_dict=widget_dict,\n",
    "                             target_folder_widget=target_folder_widget,\n",
    "                             filename_widget=filename_widget,\n",
    "                             json_target_path=json_target_path\n",
    "    ))\n",
    "    #Display widgets\n",
    "    display(filename_widget)\n",
    "    display(target_folder_widget)\n",
    "    for widget in widget_dict.values():\n",
    "        display(widget)\n",
    "    display(save_button)\n"
   ]
  },
  {
   "cell_type": "code",
   "execution_count": null,
   "id": "9e7c120d",
   "metadata": {},
   "outputs": [
    {
     "data": {
      "application/vnd.jupyter.widget-view+json": {
       "model_id": "ca6563b8fa684b52b81916cf4f8db4cc",
       "version_major": 2,
       "version_minor": 0
      },
      "text/plain": [
       "Text(value='PDL1.json', description='File Name:', layout=Layout(width='50%'))"
      ]
     },
     "metadata": {},
     "output_type": "display_data"
    },
    {
     "data": {
      "application/vnd.jupyter.widget-view+json": {
       "model_id": "fbf20899a2b24392895ad4c01557cfae",
       "version_major": 2,
       "version_minor": 0
      },
      "text/plain": [
       "Text(value='PDL1', description='Folder Name to save file to', style=TextStyle(description_width='initial'))"
      ]
     },
     "metadata": {},
     "output_type": "display_data"
    },
    {
     "data": {
      "application/vnd.jupyter.widget-view+json": {
       "model_id": "85bcd9ec694c4411abaca951b3ca774c",
       "version_major": 2,
       "version_minor": 0
      },
      "text/plain": [
       "Text(value='/workspace/outputs/PDL1', description='design_path:', style=TextStyle(description_width='initial')…"
      ]
     },
     "metadata": {},
     "output_type": "display_data"
    },
    {
     "data": {
      "application/vnd.jupyter.widget-view+json": {
       "model_id": "28bbecaf719e4e82a17fa2483c8aac13",
       "version_major": 2,
       "version_minor": 0
      },
      "text/plain": [
       "Text(value='PDL1-Binder', description='binder_name:', style=TextStyle(description_width='initial'))"
      ]
     },
     "metadata": {},
     "output_type": "display_data"
    },
    {
     "data": {
      "application/vnd.jupyter.widget-view+json": {
       "model_id": "4c459077d7ca4b7dbace7aea7f3467c7",
       "version_major": 2,
       "version_minor": 0
      },
      "text/plain": [
       "Text(value='/workspace/inputs/PDL1.pdb', description='starting_pdb:', style=TextStyle(description_width='initi…"
      ]
     },
     "metadata": {},
     "output_type": "display_data"
    },
    {
     "data": {
      "application/vnd.jupyter.widget-view+json": {
       "model_id": "e037377457d0481e84dcacce77fcea83",
       "version_major": 2,
       "version_minor": 0
      },
      "text/plain": [
       "Text(value='A', description='chains:', style=TextStyle(description_width='initial'))"
      ]
     },
     "metadata": {},
     "output_type": "display_data"
    },
    {
     "data": {
      "application/vnd.jupyter.widget-view+json": {
       "model_id": "b96d93996c014b51a04320b37f9b31b0",
       "version_major": 2,
       "version_minor": 0
      },
      "text/plain": [
       "Text(value='56', description='target_hotspot_residues:', style=TextStyle(description_width='initial'))"
      ]
     },
     "metadata": {},
     "output_type": "display_data"
    },
    {
     "data": {
      "application/vnd.jupyter.widget-view+json": {
       "model_id": "2ee1c74b4967476494b69bf7282ba8e0",
       "version_major": 2,
       "version_minor": 0
      },
      "text/plain": [
       "Text(value='[65, 150]', description='lengths:', style=TextStyle(description_width='initial'))"
      ]
     },
     "metadata": {},
     "output_type": "display_data"
    },
    {
     "data": {
      "application/vnd.jupyter.widget-view+json": {
       "model_id": "fd1f32c215ec4a04b41965b92562cc01",
       "version_major": 2,
       "version_minor": 0
      },
      "text/plain": [
       "IntText(value=10, description='number_of_final_designs:', style=DescriptionStyle(description_width='initial'))"
      ]
     },
     "metadata": {},
     "output_type": "display_data"
    },
    {
     "data": {
      "application/vnd.jupyter.widget-view+json": {
       "model_id": "cc9e8b2bc5174c2f87dcbce5ebfa1289",
       "version_major": 2,
       "version_minor": 0
      },
      "text/plain": [
       "Button(button_style='success', description='Save Changes', style=ButtonStyle())"
      ]
     },
     "metadata": {},
     "output_type": "display_data"
    },
    {
     "ename": "TypeError",
     "evalue": "on_save_clicked() got an unexpected keyword argument 'filename'",
     "output_type": "error",
     "traceback": [
      "\u001b[0;31m---------------------------------------------------------------------------\u001b[0m",
      "\u001b[0;31mTypeError\u001b[0m                                 Traceback (most recent call last)",
      "\u001b[0;31mTypeError\u001b[0m: on_save_clicked() got an unexpected keyword argument 'filename'"
     ]
    }
   ],
   "source": [
    "main_launch_editor('/home/yarrow/projects/bindcraft-runpod/settings_target/PDL1.json')"
   ]
  }
 ],
 "metadata": {
  "kernelspec": {
   "display_name": "Python (BindCraft)",
   "language": "python",
   "name": "bindcraft"
  },
  "language_info": {
   "codemirror_mode": {
    "name": "ipython",
    "version": 3
   },
   "file_extension": ".py",
   "mimetype": "text/x-python",
   "name": "python",
   "nbconvert_exporter": "python",
   "pygments_lexer": "ipython3",
   "version": "3.10.18"
  }
 },
 "nbformat": 4,
 "nbformat_minor": 5
}
