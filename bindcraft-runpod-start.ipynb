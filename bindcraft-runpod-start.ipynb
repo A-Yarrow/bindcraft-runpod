{
 "cells": [
  {
   "cell_type": "code",
   "execution_count": null,
   "id": "905c1c7d",
   "metadata": {},
   "outputs": [],
   "source": [
    "%%bash\n",
    "\n",
    "# Test Run with 10 designs \n",
    "target=\"PDL1.json\"\n",
    "target_name=\"${target%.json}\"  # Strip the .json extension\n",
    "target_path=\"/workspace/settings_target/$target\"\n",
    "log_dir=\"/workspace/outputs/$target_name\"\n",
    "log_file=\"$log_dir/${target_name}-bindcraft_log.txt\"\n",
    "\n",
    "# Ensure log directory exists\n",
    "mkdir -p \"$log_dir\"\n",
    "\n",
    "echo \"[INFO] Checking target settings file...\"\n",
    "if [ ! -f \"$target_path\" ]; then\n",
    "  echo \"[ERROR] Target file '$target' not found in /workspace/settings_target/\"\n",
    "  exit 1\n",
    "fi\n",
    "\n",
    "echo \"[INFO] Starting BindCraft with target '$target'\"\n",
    "echo \"[INFO] Logging output to $log_file\"\n",
    "\n",
    "nohup python /app/bindcraft/bindcraft.py \\\n",
    "  --settings \"$target_path\" \\\n",
    "  --filters /workspace/settings_filters/default_filters.json \\\n",
    "  --advanced /workspace/settings_advanced/default_4stage_multimer.json \\\n",
    "  > \"$log_file\" 2>&1 &\n",
    "\n",
    "echo \"[INFO] BindCraft is now running in the background (PID=$!)\""
   ]
  },
  {
   "cell_type": "code",
   "execution_count": null,
   "id": "d748bc19",
   "metadata": {},
   "outputs": [],
   "source": [
    "!tail -n 50 -f /workspace/outputs/${log_file}"
   ]
  },
  {
   "cell_type": "code",
   "execution_count": 1,
   "id": "16f39ba9",
   "metadata": {},
   "outputs": [
    {
     "name": "stdout",
     "output_type": "stream",
     "text": [
      "Using function path: /home/yarrow/projects/bindcraft-runpod/functions/\n"
     ]
    },
    {
     "data": {
      "application/vnd.jupyter.widget-view+json": {
       "model_id": "34a1318a75a3481ca0bcecbf77626ad3",
       "version_major": 2,
       "version_minor": 0
      },
      "text/plain": [
       "HTML(value='<div style=\\'padding: 8px; background-color: #eef; font-size: 16px; border: 1px solid #ccd; border…"
      ]
     },
     "metadata": {},
     "output_type": "display_data"
    },
    {
     "data": {
      "application/vnd.jupyter.widget-view+json": {
       "model_id": "87fb055bea0f47ae9798e9ae78b163b0",
       "version_major": 2,
       "version_minor": 0
      },
      "text/plain": [
       "HTML(value=\"<div style='padding: 8px; background-color: #eef; font-size: 16px; border: 1px solid #ccd; border-…"
      ]
     },
     "metadata": {},
     "output_type": "display_data"
    },
    {
     "data": {
      "application/vnd.jupyter.widget-view+json": {
       "model_id": "eb8a75b453494328a8df0a57afeb2054",
       "version_major": 2,
       "version_minor": 0
      },
      "text/plain": [
       "FileUpload(value=(), accept='.json', description='Upload JSON')"
      ]
     },
     "metadata": {},
     "output_type": "display_data"
    },
    {
     "data": {
      "application/vnd.jupyter.widget-view+json": {
       "model_id": "5f92ace3e48e43989866200c990d8063",
       "version_major": 2,
       "version_minor": 0
      },
      "text/plain": [
       "Output()"
      ]
     },
     "metadata": {},
     "output_type": "display_data"
    },
    {
     "data": {
      "application/vnd.jupyter.widget-view+json": {
       "model_id": "2b67dae65eff4ca29520e8d979dd4f61",
       "version_major": 2,
       "version_minor": 0
      },
      "text/plain": [
       "HTML(value=\"<div style='padding: 8px; background-color: #eef; font-size: 16px; border: 1px solid #ccd; border-…"
      ]
     },
     "metadata": {},
     "output_type": "display_data"
    },
    {
     "data": {
      "application/vnd.jupyter.widget-view+json": {
       "model_id": "765cfa408eba44f0a20770c362bb4cc3",
       "version_major": 2,
       "version_minor": 0
      },
      "text/plain": [
       "VBox(children=(VBox(children=(Text(value='PDL1.json', description='File Name:', layout=Layout(width='50%')), T…"
      ]
     },
     "metadata": {},
     "output_type": "display_data"
    },
    {
     "data": {
      "application/vnd.jupyter.widget-view+json": {
       "model_id": "53037da9d4664868a150bb6967ef4c16",
       "version_major": 2,
       "version_minor": 0
      },
      "text/plain": [
       "HTML(value=\"<div style='padding: 8px; background-color: #eef; font-size: 16px; border: 1px solid #ccd; border-…"
      ]
     },
     "metadata": {},
     "output_type": "display_data"
    },
    {
     "data": {
      "application/vnd.jupyter.widget-view+json": {
       "model_id": "06199dd04e6e49c0a98f8b25fc43da7c",
       "version_major": 2,
       "version_minor": 0
      },
      "text/plain": [
       "FileUpload(value=(), accept='.pdb', description='Upload PDB')"
      ]
     },
     "metadata": {},
     "output_type": "display_data"
    },
    {
     "data": {
      "application/vnd.jupyter.widget-view+json": {
       "model_id": "d0b578352da2438e839c6d823e667bb0",
       "version_major": 2,
       "version_minor": 0
      },
      "text/plain": [
       "Output()"
      ]
     },
     "metadata": {},
     "output_type": "display_data"
    },
    {
     "data": {
      "application/vnd.jupyter.widget-view+json": {
       "model_id": "d99e7bcbca7045a2b2f33f1d9c606221",
       "version_major": 2,
       "version_minor": 0
      },
      "text/plain": [
       "HTML(value=\"<div style='padding: 8px; background-color: #eef; font-size: 16px; border: 1px solid #ccd; border-…"
      ]
     },
     "metadata": {},
     "output_type": "display_data"
    },
    {
     "name": "stdout",
     "output_type": "stream",
     "text": [
      "Selected settings:\n"
     ]
    },
    {
     "name": "stderr",
     "output_type": "stream",
     "text": [
      "2025-08-15 16:29:01,534 - DEBUG - BindCraft run script written to: /home/yarrow/projects/bindcraft-runpod/bindcraft_run.sh\n"
     ]
    },
    {
     "name": "stdout",
     "output_type": "stream",
     "text": [
      "Using:\n",
      "  Filters:  /home/yarrow/projects/bindcraft-runpod/settings_filters/default_filters.json\n",
      "  Advanced: /home/yarrow/projects/bindcraft-runpod/settings_advanced/default_4stage_multimer.json\n",
      "  Target:   /home/yarrow/projects/bindcraft-runpod/settings_target/PDL1.json\n"
     ]
    },
    {
     "data": {
      "application/vnd.jupyter.widget-view+json": {
       "model_id": "87dc7b55f0854283aae46d9bd2947388",
       "version_major": 2,
       "version_minor": 0
      },
      "text/plain": [
       "Dropdown(description='Select Target JSON:', layout=Layout(width='70%'), options=('/home/yarrow/projects/bindcr…"
      ]
     },
     "metadata": {},
     "output_type": "display_data"
    },
    {
     "data": {
      "application/vnd.jupyter.widget-view+json": {
       "model_id": "056b746874da4d47ab317e3e2b0b047d",
       "version_major": 2,
       "version_minor": 0
      },
      "text/plain": [
       "Button(button_style='warning', description='🔄 Refresh Json Dropdown Menu', layout=Layout(width='30%'), style=B…"
      ]
     },
     "metadata": {},
     "output_type": "display_data"
    },
    {
     "data": {
      "application/vnd.jupyter.widget-view+json": {
       "model_id": "f406256007ac45308c8cf5e10510eb13",
       "version_major": 2,
       "version_minor": 0
      },
      "text/plain": [
       "Output()"
      ]
     },
     "metadata": {},
     "output_type": "display_data"
    },
    {
     "data": {
      "application/vnd.jupyter.widget-view+json": {
       "model_id": "104199cf00c44b99bf49cda32a8f3d49",
       "version_major": 2,
       "version_minor": 0
      },
      "text/plain": [
       "Label(value=\"Remember to click 'Refresh Json Dropdown' after uploading, editing or saving a new Target Json fi…"
      ]
     },
     "metadata": {},
     "output_type": "display_data"
    },
    {
     "data": {
      "application/vnd.jupyter.widget-view+json": {
       "model_id": "ea3041c236fb4b2d9b8b953c4142b589",
       "version_major": 2,
       "version_minor": 0
      },
      "text/plain": [
       "Dropdown(description='settings_filters files:', layout=Layout(width='50%'), options=('default_filters.json', '…"
      ]
     },
     "metadata": {},
     "output_type": "display_data"
    },
    {
     "data": {
      "application/vnd.jupyter.widget-view+json": {
       "model_id": "e92d3986738d4722806b22d24d21ec76",
       "version_major": 2,
       "version_minor": 0
      },
      "text/plain": [
       "Dropdown(description='settings_advanced files:', index=8, layout=Layout(width='50%'), options=('betasheet_4sta…"
      ]
     },
     "metadata": {},
     "output_type": "display_data"
    },
    {
     "data": {
      "application/vnd.jupyter.widget-view+json": {
       "model_id": "0f026ec32570457296751ca3b35518bf",
       "version_major": 2,
       "version_minor": 0
      },
      "text/plain": [
       "Button(button_style='success', description='Generate BindCraft Run Script with Settings', layout=Layout(width=…"
      ]
     },
     "metadata": {},
     "output_type": "display_data"
    },
    {
     "data": {
      "application/vnd.jupyter.widget-view+json": {
       "model_id": "eeada21a6bbe4b6e85940394d7b7ffff",
       "version_major": 2,
       "version_minor": 0
      },
      "text/plain": [
       "Text(value='PDL1-1', description='Enter a job id for the Bindcraft Run (Required)')"
      ]
     },
     "metadata": {},
     "output_type": "display_data"
    },
    {
     "data": {
      "application/vnd.jupyter.widget-view+json": {
       "model_id": "e9344f716e584df8a549e4ea0f2a7659",
       "version_major": 2,
       "version_minor": 0
      },
      "text/plain": [
       "Button(button_style='primary', description='Submit Job Name', layout=Layout(width='30%'), style=ButtonStyle())"
      ]
     },
     "metadata": {},
     "output_type": "display_data"
    },
    {
     "data": {
      "application/vnd.jupyter.widget-view+json": {
       "model_id": "daa2ca1120344b28a13da37985c4dc53",
       "version_major": 2,
       "version_minor": 0
      },
      "text/plain": [
       "Button(button_style='primary', description='Run BindCraft', layout=Layout(width='30%'), style=ButtonStyle())"
      ]
     },
     "metadata": {},
     "output_type": "display_data"
    },
    {
     "data": {
      "application/vnd.jupyter.widget-view+json": {
       "model_id": "549ca881a1724daa99a335186748c0b6",
       "version_major": 2,
       "version_minor": 0
      },
      "text/plain": [
       "Output()"
      ]
     },
     "metadata": {},
     "output_type": "display_data"
    }
   ],
   "source": [
    "import sys\n",
    "import os\n",
    "DEV_DIR = '/home/yarrow/projects/bindcraft-runpod/functions/'\n",
    "PROD_DIR = '/app/bindcraft/functions'\n",
    "\n",
    "path_used = DEV_DIR if os.path.exists(DEV_DIR) else PROD_DIR\n",
    "print(f\"Using function path: {path_used}\")\n",
    "sys.path.append(path_used)\n",
    "\n",
    "from main_UI import launch_all_ui\n",
    "\n",
    "launch_all_ui()"
   ]
  },
  {
   "cell_type": "code",
   "execution_count": null,
   "id": "a9acdfe5",
   "metadata": {},
   "outputs": [],
   "source": []
  }
 ],
 "metadata": {
  "kernelspec": {
   "display_name": "Python (BindCraft)",
   "language": "python",
   "name": "bindcraft"
  },
  "language_info": {
   "codemirror_mode": {
    "name": "ipython",
    "version": 3
   },
   "file_extension": ".py",
   "mimetype": "text/x-python",
   "name": "python",
   "nbconvert_exporter": "python",
   "pygments_lexer": "ipython3",
   "version": "3.10.18"
  }
 },
 "nbformat": 4,
 "nbformat_minor": 5
}
