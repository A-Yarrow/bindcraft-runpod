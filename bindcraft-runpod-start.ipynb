{
 "cells": [
  {
   "cell_type": "code",
   "execution_count": null,
   "id": "905c1c7d",
   "metadata": {},
   "outputs": [],
   "source": [
    "%%bash\n",
    "\n",
    "# Test Run with 10 designs \n",
    "target=\"PDL1.json\"\n",
    "target_name=\"${target%.json}\"  # Strip the .json extension\n",
    "target_path=\"/workspace/settings_target/$target\"\n",
    "log_dir=\"/workspace/outputs/$target_name\"\n",
    "log_file=\"$log_dir/${target_name}-bindcraft_log.txt\"\n",
    "\n",
    "# Ensure log directory exists\n",
    "mkdir -p \"$log_dir\"\n",
    "\n",
    "echo \"[INFO] Checking target settings file...\"\n",
    "if [ ! -f \"$target_path\" ]; then\n",
    "  echo \"[ERROR] Target file '$target' not found in /workspace/settings_target/\"\n",
    "  exit 1\n",
    "fi\n",
    "\n",
    "echo \"[INFO] Starting BindCraft with target '$target'\"\n",
    "echo \"[INFO] Logging output to $log_file\"\n",
    "\n",
    "nohup python /app/bindcraft/bindcraft.py \\\n",
    "  --settings \"$target_path\" \\\n",
    "  --filters /workspace/settings_filters/default_filters.json \\\n",
    "  --advanced /workspace/settings_advanced/default_4stage_multimer.json \\\n",
    "  > \"$log_file\" 2>&1 &\n",
    "\n",
    "echo \"[INFO] BindCraft is now running in the background (PID=$!)\""
   ]
  },
  {
   "cell_type": "code",
   "execution_count": null,
   "id": "880b30b2-cd7a-4562-a3d7-67e445c525c6",
   "metadata": {},
   "outputs": [],
   "source": []
  },
  {
   "cell_type": "code",
   "execution_count": null,
   "id": "d748bc19",
   "metadata": {},
   "outputs": [],
   "source": [
    "!tail -n 50 -f /workspace/outputs/${log_file}"
   ]
  },
  {
   "cell_type": "code",
   "execution_count": 5,
   "id": "fc78833a",
   "metadata": {},
   "outputs": [
    {
     "data": {
      "application/vnd.jupyter.widget-view+json": {
       "model_id": "4d188cdcd38449149e96fe3c6047b70a",
       "version_major": 2,
       "version_minor": 0
      },
      "text/plain": [
       "FileUpload(value=(), accept='.json', description='Upload')"
      ]
     },
     "metadata": {},
     "output_type": "display_data"
    }
   ],
   "source": [
    "import ipywidgets as widgets\n",
    "from IPython.display import display\n",
    "uploader = widgets.FileUpload(accept='.json', multiple=False)\n",
    "display(uploader)"
   ]
  },
  {
   "cell_type": "code",
   "execution_count": null,
   "id": "d5308933",
   "metadata": {},
   "outputs": [],
   "source": [
    "import json\n",
    "import os\n",
    "\n",
    "def parse_target_json(filepath):\n",
    "    with open(filepath, 'r') as f:\n",
    "        data = json.load(f)\n",
    "    return data\n",
    "\n",
    "def save_target_json(target_folder, filepath, data):\n",
    "    target_filepath = os.path.join(os.path.dirname(os.path.dirname(filepath)), target_folder)\n",
    "    with open(f'{target_filepath}', 'w') as f:\n",
    "        json.dump(data, f, indent=4)\n",
    "    print(f\"Data saved to {target_filepath}\")\n",
    "\n",
    "def target_editor_widget(json_path):\n",
    "    data = parse_target_json(json_path)\n",
    "    widget_dict = {}\n",
    "    for k, v in data.items():\n",
    "         \n",
    "        if isinstance(v, list):\n",
    "            widget_dict[k] = widgets.Text(value=str(v), description=f'{k}:')\n",
    "        elif isinstance(v, int):\n",
    "            widget_dict[k] = widgets.IntText(value=v, description=f'{k}:')\n",
    "        else:\n",
    "            widget_dict[k] = widgets.Text(value=v, description=f'{k}:')\n",
    "        \n",
    "    save_button = widgets.Button(description=\"Save Changes\", save_button_style='success')\n",
    "    return widget_dict, save_button\n",
    "\n",
    "def update_data(data, widget_dict):\n",
    "    updated_data = {}\n",
    "    for key, widget in widget_dict.items():\n",
    "        w = widget.value\n",
    "        #Convert back to a list if the original data was a list\n",
    "        if isinstance(data[key], list):\n",
    "            w = [item.strip() for item in w.split(',')] \n",
    "        updated_data[key] = w\n",
    "    return updated_data\n",
    "    save_target_json(json_path, new_data)       \n",
    "\n",
    "def on_save_clicked(button, target_folder, json_path, updated_data):  \n",
    "    save_target_json(target_folder, json_path, updated_data)\n",
    "    \n",
    "# Display the widgets and save button\n",
    "save_button.on_click()"
   ]
  },
  {
   "cell_type": "code",
   "execution_count": null,
   "id": "65ce11ac",
   "metadata": {},
   "outputs": [
    {
     "ename": "NameError",
     "evalue": "name 'design_path' is not defined",
     "output_type": "error",
     "traceback": [
      "\u001b[0;31m---------------------------------------------------------------------------\u001b[0m",
      "\u001b[0;31mNameError\u001b[0m                                 Traceback (most recent call last)",
      "Cell \u001b[0;32mIn[6], line 34\u001b[0m, in \u001b[0;36mon_save_clicked\u001b[0;34m(b)\u001b[0m\n\u001b[1;32m     30\u001b[0m \u001b[38;5;28;01mdef\u001b[39;00m\u001b[38;5;250m \u001b[39m\u001b[38;5;21mon_save_clicked\u001b[39m(b):\n\u001b[1;32m     33\u001b[0m     new_data \u001b[38;5;241m=\u001b[39m {\n\u001b[0;32m---> 34\u001b[0m         \u001b[38;5;124m\"\u001b[39m\u001b[38;5;124mdesign_path\u001b[39m\u001b[38;5;124m\"\u001b[39m: \u001b[43mdesign_path\u001b[49m\u001b[38;5;241m.\u001b[39mvalue,\n\u001b[1;32m     35\u001b[0m     }\n\u001b[1;32m     36\u001b[0m     save_target_json(json_path, new_data)\n",
      "\u001b[0;31mNameError\u001b[0m: name 'design_path' is not defined"
     ]
    }
   ],
   "source": [
    "widget_dict, save_button = target_editor_widget('workspace/settings_target/PDL1.json')"
   ]
  },
  {
   "cell_type": "code",
   "execution_count": 10,
   "id": "a57d988f",
   "metadata": {},
   "outputs": [
    {
     "data": {
      "application/vnd.jupyter.widget-view+json": {
       "model_id": "d67db72d988e42329c7532c5e02f216d",
       "version_major": 2,
       "version_minor": 0
      },
      "text/plain": [
       "Button(description='Save Changes', style=ButtonStyle())"
      ]
     },
     "metadata": {},
     "output_type": "display_data"
    }
   ],
   "source": [
    "display(save_button)\n",
    "save_button.on_click(on_save_clicked)"
   ]
  },
  {
   "cell_type": "code",
   "execution_count": null,
   "id": "e4eb0b3c",
   "metadata": {},
   "outputs": [
    {
     "name": "stdout",
     "output_type": "stream",
     "text": [
      "/workspace/outputs/PDL1, PDL1-Binder, /workspace/inputs/PDL1.pdb\n"
     ]
    }
   ],
   "source": [
    "data = parse_target_json('settings_target/PDL1.json')\n",
    "\n",
    "def \n",
    "design_path = data['design_path']\n",
    "binder_name = data['binder_name']\n",
    "starting_pdb = data['starting_pdb']\n",
    "chains = data['chains']\n",
    "target_hotspot_residues = data['target_hotspot_residues']  \n",
    "lengths = data['lengths']\n",
    "number_of_designs = data['number_of_final_designs']         \n",
    "\n",
    "print(f\"{design_path}, {binder_name}, {starting_pdb}\")"
   ]
  },
  {
   "cell_type": "code",
   "execution_count": null,
   "id": "f711ee6f",
   "metadata": {},
   "outputs": [],
   "source": [
    "def target_editor_widget(json_path):\n",
    "    data = parse_target_json(json_path)\n",
    "    design_path = widgets.Text(value=data.get(\"design_path\", \"\"), description=\"Design Path:\")\n",
    "    save_button = widgets.Button(description=\"Save Changes\", save_button_style='success')\n",
    "\n",
    "def on_save_clicked(b):\n",
    "    new_data = {\n",
    "        \"design_path\": design_path.value,\n",
    "    }\n",
    "    save_target_json(json_path, new_data)       \n",
    "            "
   ]
  },
  {
   "cell_type": "code",
   "execution_count": null,
   "id": "9e7c120d",
   "metadata": {},
   "outputs": [],
   "source": []
  }
 ],
 "metadata": {
  "kernelspec": {
   "display_name": "Python (BindCraft)",
   "language": "python",
   "name": "bindcraft"
  },
  "language_info": {
   "codemirror_mode": {
    "name": "ipython",
    "version": 3
   },
   "file_extension": ".py",
   "mimetype": "text/x-python",
   "name": "python",
   "nbconvert_exporter": "python",
   "pygments_lexer": "ipython3",
   "version": "3.10.18"
  }
 },
 "nbformat": 4,
 "nbformat_minor": 5
}
