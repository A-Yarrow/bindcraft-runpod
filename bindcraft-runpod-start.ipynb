{
 "cells": [
  {
   "cell_type": "code",
   "execution_count": null,
   "id": "905c1c7d",
   "metadata": {},
   "outputs": [],
   "source": [
    "%%bash\n",
    "\n",
    "# Test Run with 10 designs \n",
    "target=\"PDL1.json\"\n",
    "target_name=\"${target%.json}\"  # Strip the .json extension\n",
    "target_path=\"/workspace/settings_target/$target\"\n",
    "log_dir=\"/workspace/outputs/$target_name\"\n",
    "log_file=\"$log_dir/${target_name}-bindcraft_log.txt\"\n",
    "\n",
    "# Ensure log directory exists\n",
    "mkdir -p \"$log_dir\"\n",
    "\n",
    "echo \"[INFO] Checking target settings file...\"\n",
    "if [ ! -f \"$target_path\" ]; then\n",
    "  echo \"[ERROR] Target file '$target' not found in /workspace/settings_target/\"\n",
    "  exit 1\n",
    "fi\n",
    "\n",
    "echo \"[INFO] Starting BindCraft with target '$target'\"\n",
    "echo \"[INFO] Logging output to $log_file\"\n",
    "\n",
    "nohup python /app/bindcraft/bindcraft.py \\\n",
    "  --settings \"$target_path\" \\\n",
    "  --filters /workspace/settings_filters/default_filters.json \\\n",
    "  --advanced /workspace/settings_advanced/default_4stage_multimer.json \\\n",
    "  > \"$log_file\" 2>&1 &\n",
    "\n",
    "echo \"[INFO] BindCraft is now running in the background (PID=$!)\""
   ]
  },
  {
   "cell_type": "code",
   "execution_count": null,
   "id": "d748bc19",
   "metadata": {},
   "outputs": [],
   "source": [
    "!tail -n 50 -f /workspace/outputs/${log_file}"
   ]
  },
  {
   "cell_type": "code",
   "execution_count": 1,
   "id": "fc78833a",
   "metadata": {},
   "outputs": [
    {
     "data": {
      "application/vnd.jupyter.widget-view+json": {
       "model_id": "adae83145a61493597e19644ffc91e02",
       "version_major": 2,
       "version_minor": 0
      },
      "text/plain": [
       "FileUpload(value=(), accept='.json', description='Upload')"
      ]
     },
     "metadata": {},
     "output_type": "display_data"
    }
   ],
   "source": [
    "import ipywidgets as widgets\n",
    "from IPython.display import display\n",
    "uploader = widgets.FileUpload(accept='.json', multiple=False)\n",
    "display(uploader)"
   ]
  },
  {
   "cell_type": "code",
   "execution_count": 44,
   "id": "d5308933",
   "metadata": {},
   "outputs": [],
   "source": [
    "import json\n",
    "import os\n",
    "from glob import glob\n",
    "from pathlib import Path\n",
    "from functools import partial\n",
    "import ipywidgets as widgets\n",
    "from IPython.display import display\n",
    "\n",
    "def parse_target_json(filepath):\n",
    "    with open(filepath, 'r') as f:\n",
    "        data = json.load(f)\n",
    "    return data\n",
    "\n",
    "def save_target_json(target_folder, filename, json_target_path, data):\n",
    "    base_dir = os.path.dirname(json_target_path)\n",
    "    target_filepath = os.path.join(base_dir, target_folder)\n",
    "    os.makedirs(target_filepath, exist_ok=True)\n",
    "    \n",
    "    full_path = os.path.join(target_filepath, filename)\n",
    "    print(f\"[DEBUG] Writing file to: {full_path}\")\n",
    "\n",
    "    with open(full_path, 'w') as f:\n",
    "        json.dump(data, f, indent=4)\n",
    "    print(f'Data saved to {full_path}')\n",
    "\n",
    "def update_data(data, widget_dict):\n",
    "    updated_data = {}\n",
    "    for key, widget in widget_dict.items():\n",
    "        w = widget.value\n",
    "        #Convert back to a list if the original data was a list\n",
    "        if isinstance(data[key], list):\n",
    "            try:\n",
    "                w = json.loads(w)\n",
    "            except json.JSONDecodeError:\n",
    "                print(f\"Error decoding JSON for key '{key}'. Keeping original value.\")\n",
    "                w = data[key]\n",
    "        updated_data[key] = w\n",
    "    return updated_data     \n",
    "\n",
    "def on_save_clicked(button, data, widget_dict, target_folder_widget, filename_widget, json_target_path):\n",
    "    print(\"[DEBUG] Save button clicked\")\n",
    "    target_folder = target_folder_widget.value.strip()\n",
    "    filename = filename_widget.value.strip()\n",
    "    updated_data = update_data(data, widget_dict)\n",
    "    save_target_json(target_folder, filename, json_target_path, updated_data)\n",
    "    print(f'Saved parameters to {filename} in folder {target_folder}')\n",
    "\n",
    "\n",
    "#UI Builder\n",
    "\n",
    "def target_editor_widget(data):\n",
    "    widget_dict = {}\n",
    "    for k, v in data.items():\n",
    "         \n",
    "        if isinstance(v, list):\n",
    "            widget_dict[k] = widgets.Text(value=str(v), description=f'{k}:',\n",
    "                                          style={'description_width': 'initial'})\n",
    "    \n",
    "        elif isinstance(v, int):\n",
    "            widget_dict[k] = widgets.IntText(value=v, description=f'{k}:',\n",
    "                                             style={'description_width': 'initial'})\n",
    "\n",
    "        else:\n",
    "            widget_dict[k] = widgets.Text(value=v, description=f'{k}:',\n",
    "                                          style={'description_width': 'initial'})\n",
    "        \n",
    "    return widget_dict\n",
    "\n",
    "def settings_widget(dirs = ['/workspace/settings_filters', '/workspace/settings_advanced']):\n",
    "    for d in dirs:\n",
    "        file_list = sorted(glob(f'{d}/*.json'))\n",
    "        filenames = [os.path.basename(file) for file in file_list]\n",
    "        \n",
    "        #Create the dropdowns\n",
    "        file_dropdown = widgets.Dropdown(\n",
    "        options=filenames,\n",
    "        description=f'{os.path.basename(d)} files:',\n",
    "        style={'description_width': 'initial'},\n",
    "        layout=widgets.Layout(width='50%')\n",
    "        )\n",
    "        display(file_dropdown)\n",
    "\n",
    "def main_launch_editor(json_target_path='/workspace/settings_target/PDL1.json'):\n",
    "    data = parse_target_json(json_target_path)\n",
    "\n",
    "    target_folder_widget = widgets.Text(value=Path(json_target_path).stem,\n",
    "                                    description='Subfolder to save json file to',\n",
    "                                    style={'description_width': 'initial'}\n",
    "                                   )\n",
    "    filename_widget = widgets.Text(value=os.path.basename(json_target_path),\n",
    "                               description='File Name:',\n",
    "                               layout=widgets.Layout(width='50%')\n",
    "                               )\n",
    "    \n",
    "    #Editable Field widgets\n",
    "    widget_dict = target_editor_widget(data)\n",
    "\n",
    "    save_button = widgets.Button(description=\"Save Changes\", button_style='success')\n",
    "    save_button.on_click(partial(on_save_clicked,\n",
    "                             data=data,\n",
    "                             widget_dict=widget_dict,\n",
    "                             target_folder_widget=target_folder_widget,\n",
    "                             filename_widget=filename_widget,\n",
    "                             json_target_path=json_target_path\n",
    "    ))\n",
    "    #Display widgets\n",
    "    display(filename_widget)\n",
    "    display(target_folder_widget)\n",
    "    for widget in widget_dict.values():\n",
    "        display(widget)\n",
    "    display(save_button)\n",
    "\n"
   ]
  },
  {
   "cell_type": "code",
   "execution_count": 45,
   "id": "9e7c120d",
   "metadata": {},
   "outputs": [
    {
     "data": {
      "application/vnd.jupyter.widget-view+json": {
       "model_id": "739196ee0a7447a58a8556a37e62e430",
       "version_major": 2,
       "version_minor": 0
      },
      "text/plain": [
       "Text(value='PDL1.json', description='File Name:', layout=Layout(width='50%'))"
      ]
     },
     "metadata": {},
     "output_type": "display_data"
    },
    {
     "data": {
      "application/vnd.jupyter.widget-view+json": {
       "model_id": "7a22abc78c8745278eb62a7efd70fb73",
       "version_major": 2,
       "version_minor": 0
      },
      "text/plain": [
       "Text(value='PDL1', description='Subfolder to save json file to', style=TextStyle(description_width='initial'))"
      ]
     },
     "metadata": {},
     "output_type": "display_data"
    },
    {
     "data": {
      "application/vnd.jupyter.widget-view+json": {
       "model_id": "7746ba8fad414dd7b9a6a66fc24d4873",
       "version_major": 2,
       "version_minor": 0
      },
      "text/plain": [
       "Text(value='/workspace/outputs/PDL1', description='design_path:', style=TextStyle(description_width='initial')…"
      ]
     },
     "metadata": {},
     "output_type": "display_data"
    },
    {
     "data": {
      "application/vnd.jupyter.widget-view+json": {
       "model_id": "4632b97590ef4bf68946ee0effaab0ae",
       "version_major": 2,
       "version_minor": 0
      },
      "text/plain": [
       "Text(value='PDL1-Binder', description='binder_name:', style=TextStyle(description_width='initial'))"
      ]
     },
     "metadata": {},
     "output_type": "display_data"
    },
    {
     "data": {
      "application/vnd.jupyter.widget-view+json": {
       "model_id": "8a6505815a434e6cb759a386878f642a",
       "version_major": 2,
       "version_minor": 0
      },
      "text/plain": [
       "Text(value='/workspace/inputs/PDL1.pdb', description='starting_pdb:', style=TextStyle(description_width='initi…"
      ]
     },
     "metadata": {},
     "output_type": "display_data"
    },
    {
     "data": {
      "application/vnd.jupyter.widget-view+json": {
       "model_id": "6607bac8838f420d8a2ed6040f87cb5d",
       "version_major": 2,
       "version_minor": 0
      },
      "text/plain": [
       "Text(value='A', description='chains:', style=TextStyle(description_width='initial'))"
      ]
     },
     "metadata": {},
     "output_type": "display_data"
    },
    {
     "data": {
      "application/vnd.jupyter.widget-view+json": {
       "model_id": "7d38ad21c6b143ab87aef70e4d62c337",
       "version_major": 2,
       "version_minor": 0
      },
      "text/plain": [
       "Text(value='56', description='target_hotspot_residues:', style=TextStyle(description_width='initial'))"
      ]
     },
     "metadata": {},
     "output_type": "display_data"
    },
    {
     "data": {
      "application/vnd.jupyter.widget-view+json": {
       "model_id": "252add0de7744efb85c86b4b9e1fac8a",
       "version_major": 2,
       "version_minor": 0
      },
      "text/plain": [
       "Text(value='[65, 150]', description='lengths:', style=TextStyle(description_width='initial'))"
      ]
     },
     "metadata": {},
     "output_type": "display_data"
    },
    {
     "data": {
      "application/vnd.jupyter.widget-view+json": {
       "model_id": "66620fa107ca450e86238dd3b4f7caec",
       "version_major": 2,
       "version_minor": 0
      },
      "text/plain": [
       "IntText(value=10, description='number_of_final_designs:', style=DescriptionStyle(description_width='initial'))"
      ]
     },
     "metadata": {},
     "output_type": "display_data"
    },
    {
     "data": {
      "application/vnd.jupyter.widget-view+json": {
       "model_id": "b5b2f40da35b47ac85682a26a45ac57d",
       "version_major": 2,
       "version_minor": 0
      },
      "text/plain": [
       "Button(button_style='success', description='Save Changes', style=ButtonStyle())"
      ]
     },
     "metadata": {},
     "output_type": "display_data"
    }
   ],
   "source": [
    "main_launch_editor('/home/yarrow/projects/bindcraft-runpod/settings_target/PDL1.json')"
   ]
  },
  {
   "cell_type": "code",
   "execution_count": null,
   "id": "334463fa",
   "metadata": {},
   "outputs": [],
   "source": [
    "from glob import glob\n",
    "import os\n",
    "import ipywidgets as widgets\n",
    "from IPython.display import display\n",
    "from functools import partial\n",
    "import subprocess\n",
    "from string import Template\n",
    "\n",
    "# GLOBAL SETTINGS\n",
    "selected_paths_holder = {}\n",
    "SETTINGS_FILE_PATH = '/home/yarrow/projects/bindcraft-runpod/'\n",
    "BINDCRAFT_RUN_TEMPLATE_PATH = \"/home/yarrow/projects/bindcraft-runpod/bindcraft_run_template.sh\"\n",
    "BINDCRAFT_SCRIPT_OUTPUT_PATH = \"/home/yarrow/projects/bindcraft-runpod/bindcraft_run.sh\"\n",
    "\n",
    "#SETTINGS_DIRS = [\n",
    "#    '/workspace/settings_filters',\n",
    "#    '/workspace/settings_advanced',\n",
    "#]\n",
    "# For Runpod: '/workspace/'\n",
    "\n",
    "def settings_widget(dirs: list) -> dict:\n",
    "    settings_widget_dict = {}\n",
    "    for d in dirs:\n",
    "        file_list = sorted(glob(f'{d}/*.json'))\n",
    "        filenames = [os.path.basename(file) for file in file_list]\n",
    "        \n",
    "        #Create the dropdowns\n",
    "        file_dropdown = widgets.Dropdown(\n",
    "        options=filenames,\n",
    "        description=f'{os.path.basename(d)} files:',\n",
    "        style={'description_width': 'initial'},\n",
    "        layout=widgets.Layout(width='50%')\n",
    "        )\n",
    "        #Store the widgets in a dictionary\n",
    "        settings_widget_dict[d] = file_dropdown\n",
    "    #print(f\"[DEBUG] Settings widget dictionary: {settings_widget_dict}\")\n",
    "    return settings_widget_dict\n",
    "        \n",
    "def on_submit_clicked(button, settings_widget_dict: dict) -> None:\n",
    "    selected_paths = {os.path.basename(k): dd.value for k, dd in settings_widget_dict.items()}\n",
    "    selected_paths_holder.clear()\n",
    "    selected_paths_holder.update(selected_paths)\n",
    "    \n",
    "    for k, v in selected_paths_holder.items():\n",
    "        print(f'{k}: {v}')\n",
    "   \n",
    "def run_bindcraft(SETTINGS_FILE_PATH: str, selected_paths_holder: dict, target_path: str) -> None:\n",
    " \n",
    "    for folder, file in selected_paths_holder.items():\n",
    "        full_path = os.path.join(SETTINGS_FILE_PATH, folder, file)\n",
    "        selected_paths_holder[folder] = full_path\n",
    "    \n",
    "    try:\n",
    "        filters_path = selected_paths_holder['settings_filters']\n",
    "        advanced_path = selected_paths_holder['settings_advanced']\n",
    "        selected_paths_holder['settings_target'] = target_path\n",
    "    except KeyError:\n",
    "        print(f\"Please click on the Submit button first to select settings files.\")\n",
    "        return\n",
    "    \n",
    "    if not filters_path or not advanced_path or not target_path:\n",
    "        print(f'Please select both filters and advanced settings files.')\n",
    "        return\n",
    "    \n",
    "    print(filters_path, advanced_path, target_path)\n",
    "    with open(BINDCRAFT_RUN_TEMPLATE_PATH, 'r') as f:\n",
    "        template = Template(f.read())\n",
    "    \n",
    "    # Replace placeholders in the template\n",
    "    template = template.substitute(\n",
    "    \n",
    "    FILTERS_FILE_PATH=filters_path,\n",
    "    ADVANCED_FILE_PATH=advanced_path,\n",
    "    TARGET_FILE_PATH=target_path,\n",
    "    TARGET_FILE_NAME=os.path.basename(target_path),\n",
    "    TARGET_NAME=os.path.splitext(os.path.basename(target_path))[0],\n",
    "    LOG_DIR=f\"/workspace/outputs/{os.path.splitext(os.path.basename(target_path))[0]}\"\n",
    ")\n",
    "    # Write the modified template to the output script\n",
    "    with open(BINDCRAFT_SCRIPT_OUTPUT_PATH, 'w') as output_script:\n",
    "        output_script.write(template)\n",
    "\n",
    "    os.chmod(BINDCRAFT_SCRIPT_OUTPUT_PATH, 0o755)\n",
    "    print(f\"BindCraft script written to {BINDCRAFT_SCRIPT_OUTPUT_PATH}\")\n",
    "\n",
    "    try:\n",
    "        subprocess.run([\"bash\", BINDCRAFT_SCRIPT_OUTPUT_PATH], check=True)\n",
    "    except subprocess.CalledProcessError as e:\n",
    "        print(f\"Command failed with exit code {e.returncode}\")\n",
    "\n",
    "\n",
    "def main(dirs) -> list:\n",
    "    settings_widget_dict = settings_widget(dirs)\n",
    "    submit_button = widgets.Button(description = 'Submit Selected settings',\n",
    "                                   button_style = 'success',\n",
    "                                   layout = widgets.Layout(width='30%')\n",
    "                                   )\n",
    "    submit_button.on_click(partial(on_submit_clicked, \n",
    "                                   settings_widget_dict=settings_widget_dict,\n",
    "                                   )\n",
    "                            )\n",
    "    #Display Widgets \n",
    "    for directory, widget in settings_widget_dict.items:\n",
    "        print(f\"Displaying dropdown for {directory}\")\n",
    "        display(widget)\n",
    "    display(submit_button)\n",
    "\n",
    "\n",
    "        \n"
   ]
  },
  {
   "cell_type": "code",
   "execution_count": 87,
   "id": "720d355a",
   "metadata": {},
   "outputs": [
    {
     "name": "stdout",
     "output_type": "stream",
     "text": [
      "Displaying dropdown for /home/yarrow/projects/bindcraft-runpod/settings_filters\n"
     ]
    },
    {
     "data": {
      "application/vnd.jupyter.widget-view+json": {
       "model_id": "fa2709fa998f44148527178511b8ef13",
       "version_major": 2,
       "version_minor": 0
      },
      "text/plain": [
       "Dropdown(description='settings_filters files:', layout=Layout(width='50%'), options=('default_filters.json', '…"
      ]
     },
     "metadata": {},
     "output_type": "display_data"
    },
    {
     "name": "stdout",
     "output_type": "stream",
     "text": [
      "Displaying dropdown for /home/yarrow/projects/bindcraft-runpod/settings_advanced\n"
     ]
    },
    {
     "data": {
      "application/vnd.jupyter.widget-view+json": {
       "model_id": "67ce6594898e4bcea1fe71e1ee95b820",
       "version_major": 2,
       "version_minor": 0
      },
      "text/plain": [
       "Dropdown(description='settings_advanced files:', layout=Layout(width='50%'), options=('betasheet_4stage_multim…"
      ]
     },
     "metadata": {},
     "output_type": "display_data"
    },
    {
     "data": {
      "application/vnd.jupyter.widget-view+json": {
       "model_id": "c73176278def40f093b6e375aa9f5140",
       "version_major": 2,
       "version_minor": 0
      },
      "text/plain": [
       "Button(button_style='success', description='Submit Selected settings', layout=Layout(width='30%'), style=Butto…"
      ]
     },
     "metadata": {},
     "output_type": "display_data"
    }
   ],
   "source": [
    "\n",
    "dirs =['/home/yarrow/projects/bindcraft-runpod/settings_filters',\n",
    "       '/home/yarrow/projects/bindcraft-runpod/settings_advanced'] \n",
    "#['/workspace/settings_filters', '/workspace/settings_advanced']\n",
    "settings_widget_dict = settings_widget(dirs)\n",
    "\n",
    "submit_button = widgets.Button(description = 'Submit Selected settings',\n",
    "                                   button_style = 'success',\n",
    "                                   layout = widgets.Layout(width='30%')\n",
    "                                   )  \n",
    "selected_paths = submit_button.on_click(partial(on_submit_clicked, \n",
    "                                   settings_widget_dict=settings_widget_dict,\n",
    "                                   )\n",
    "                )\n",
    "#Display Widgets \n",
    "for directory, widget in settings_widget_dict.items():\n",
    "       print(f\"Displaying dropdown for {directory}\")\n",
    "       display(widget)\n",
    "\n",
    "display(submit_button)\n",
    "\n"
   ]
  },
  {
   "cell_type": "code",
   "execution_count": 89,
   "id": "330e9282",
   "metadata": {},
   "outputs": [
    {
     "name": "stdout",
     "output_type": "stream",
     "text": [
      "/home/yarrow/projects/bindcraft-runpod/settings_filters/default_filters.json /home/yarrow/projects/bindcraft-runpod/settings_advanced/betasheet_4stage_multimer.json /home/yarrow/projects/bindcraft-runpod/settings_target/PDL1.json\n",
      "BindCraft script written to /home/yarrow/projects/bindcraft-runpod/bindcraft_run.sh\n"
     ]
    }
   ],
   "source": [
    "#print(selected_paths_holder)\n",
    "run_bindcraft(SETTINGS_FILE_PATH, selected_paths_holder, '/home/yarrow/projects/bindcraft-runpod/settings_target/PDL1.json')"
   ]
  },
  {
   "cell_type": "code",
   "execution_count": 94,
   "id": "ba40fe23",
   "metadata": {},
   "outputs": [
    {
     "ename": "ImportError",
     "evalue": "cannot import name 'main_launch_editor' from 'ui_target_editor' (/home/yarrow/projects/bindcraft-runpod/functions/ui_target_editor.py)",
     "output_type": "error",
     "traceback": [
      "\u001b[0;31m---------------------------------------------------------------------------\u001b[0m",
      "\u001b[0;31mImportError\u001b[0m                               Traceback (most recent call last)",
      "Cell \u001b[0;32mIn[94], line 5\u001b[0m\n\u001b[1;32m      2\u001b[0m \u001b[38;5;28mdir\u001b[39m \u001b[38;5;241m=\u001b[39m \u001b[38;5;124m'\u001b[39m\u001b[38;5;124m/home/yarrow/projects/bindcraft-runpod/functions/\u001b[39m\u001b[38;5;124m'\u001b[39m\n\u001b[1;32m      3\u001b[0m sys\u001b[38;5;241m.\u001b[39mpath\u001b[38;5;241m.\u001b[39mappend(\u001b[38;5;28mdir\u001b[39m)\n\u001b[0;32m----> 5\u001b[0m \u001b[38;5;28;01mfrom\u001b[39;00m\u001b[38;5;250m \u001b[39m\u001b[38;5;21;01mUI_launch\u001b[39;00m\u001b[38;5;250m \u001b[39m\u001b[38;5;28;01mimport\u001b[39;00m launch_all_ui\n\u001b[1;32m      7\u001b[0m launch_all_ui()\n",
      "File \u001b[0;32m~/projects/bindcraft-runpod/functions/UI_launch.py:11\u001b[0m\n\u001b[1;32m      8\u001b[0m sys\u001b[38;5;241m.\u001b[39mpath\u001b[38;5;241m.\u001b[39mappend(\u001b[38;5;124m'\u001b[39m\u001b[38;5;124m/workspace/../functions\u001b[39m\u001b[38;5;124m'\u001b[39m)\n\u001b[1;32m     10\u001b[0m \u001b[38;5;66;03m# Import both UIs\u001b[39;00m\n\u001b[0;32m---> 11\u001b[0m \u001b[38;5;28;01mfrom\u001b[39;00m\u001b[38;5;250m \u001b[39m\u001b[38;5;21;01mui_target_editor\u001b[39;00m\u001b[38;5;250m \u001b[39m\u001b[38;5;28;01mimport\u001b[39;00m main_launch_editor\n\u001b[1;32m     12\u001b[0m \u001b[38;5;28;01mfrom\u001b[39;00m\u001b[38;5;250m \u001b[39m\u001b[38;5;21;01mui_bindcraft_runner\u001b[39;00m\u001b[38;5;250m \u001b[39m\u001b[38;5;28;01mimport\u001b[39;00m launch_bindcraft_UI\n\u001b[1;32m     14\u001b[0m \u001b[38;5;66;03m# Shared variable to hold the path to the edited target JSON\u001b[39;00m\n",
      "\u001b[0;31mImportError\u001b[0m: cannot import name 'main_launch_editor' from 'ui_target_editor' (/home/yarrow/projects/bindcraft-runpod/functions/ui_target_editor.py)"
     ]
    }
   ],
   "source": [
    "import sys\n",
    "dir = '/home/yarrow/projects/bindcraft-runpod/functions/'\n",
    "sys.path.append(dir)\n",
    "\n",
    "from UI_launch import launch_all_ui\n",
    "\n",
    "launch_all_ui()\n"
   ]
  }
 ],
 "metadata": {
  "kernelspec": {
   "display_name": "Python (BindCraft)",
   "language": "python",
   "name": "bindcraft"
  },
  "language_info": {
   "codemirror_mode": {
    "name": "ipython",
    "version": 3
   },
   "file_extension": ".py",
   "mimetype": "text/x-python",
   "name": "python",
   "nbconvert_exporter": "python",
   "pygments_lexer": "ipython3",
   "version": "3.10.18"
  }
 },
 "nbformat": 4,
 "nbformat_minor": 5
}
